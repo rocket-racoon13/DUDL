{
 "cells": [
  {
   "cell_type": "code",
   "execution_count": 2,
   "metadata": {},
   "outputs": [],
   "source": [
    "import numpy as np"
   ]
  },
  {
   "cell_type": "code",
   "execution_count": 3,
   "metadata": {},
   "outputs": [],
   "source": [
    "f = lambda x: 3*x**2 - 3*x + 4\n",
    "deriv = lambda x: 6*x - 3"
   ]
  },
  {
   "cell_type": "code",
   "execution_count": 13,
   "metadata": {},
   "outputs": [],
   "source": [
    "learning_rate = 0.01"
   ]
  },
  {
   "cell_type": "code",
   "execution_count": 20,
   "metadata": {},
   "outputs": [],
   "source": [
    "def train(threshold):\n",
    "    x_value = np.random.choice(np.linspace(-2, 2, 2001))\n",
    "    print(f\"Initial x_value: {x_value}\")\n",
    "    \n",
    "    training_epochs = 0\n",
    "    while True:\n",
    "        gradient = deriv(x_value)\n",
    "        if training_epochs == 100000 or abs(gradient) < threshold:\n",
    "            break\n",
    "        x_value = x_value - learning_rate*gradient\n",
    "        training_epochs += 1\n",
    "        \n",
    "    print(f\"Final x value: {x_value}\")\n",
    "    print(f\"Final derivative value: {gradient}\")\n",
    "    print(f\"Total training epochs: {training_epochs}\")"
   ]
  },
  {
   "cell_type": "code",
   "execution_count": 23,
   "metadata": {},
   "outputs": [
    {
     "name": "stdout",
     "output_type": "stream",
     "text": [
      "Initial x_value: 0.79\n",
      "Final x value: 0.5000001589234142\n",
      "Final derivative value: 9.535404852378804e-07\n",
      "Total training epochs: 233\n"
     ]
    }
   ],
   "source": [
    "train(threshold=0.000001)"
   ]
  },
  {
   "cell_type": "code",
   "execution_count": null,
   "metadata": {},
   "outputs": [],
   "source": []
  }
 ],
 "metadata": {
  "kernelspec": {
   "display_name": "workspace",
   "language": "python",
   "name": "python3"
  },
  "language_info": {
   "codemirror_mode": {
    "name": "ipython",
    "version": 3
   },
   "file_extension": ".py",
   "mimetype": "text/x-python",
   "name": "python",
   "nbconvert_exporter": "python",
   "pygments_lexer": "ipython3",
   "version": "3.8.11"
  },
  "orig_nbformat": 4
 },
 "nbformat": 4,
 "nbformat_minor": 2
}
