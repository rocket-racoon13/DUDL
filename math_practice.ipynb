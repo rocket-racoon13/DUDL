{
 "cells": [
  {
   "attachments": {},
   "cell_type": "markdown",
   "metadata": {},
   "source": [
    "# Softmax"
   ]
  },
  {
   "cell_type": "code",
   "execution_count": 1,
   "metadata": {},
   "outputs": [],
   "source": [
    "import numpy as np\n",
    "import torch\n",
    "import torch.nn as nn\n",
    "import matplotlib.pyplot as plt"
   ]
  },
  {
   "cell_type": "code",
   "execution_count": 2,
   "metadata": {},
   "outputs": [
    {
     "name": "stdout",
     "output_type": "stream",
     "text": [
      "[0.09003057 0.24472847 0.66524096]\n",
      "1.0\n"
     ]
    }
   ],
   "source": [
    "z = [1, 2, 3]\n",
    "\n",
    "num = np.exp(z)\n",
    "den = np.sum(np.exp(z))\n",
    "sigma = num / den\n",
    "\n",
    "print(sigma)\n",
    "print(sum(sigma))"
   ]
  },
  {
   "cell_type": "code",
   "execution_count": 3,
   "metadata": {},
   "outputs": [
    {
     "name": "stdout",
     "output_type": "stream",
     "text": [
      "[-3  6  0  5  0 14  9 -3 -2  5  6 -2 10 10 13  1  8  2 -3 14 11  9  2 11\n",
      "  8]\n"
     ]
    }
   ],
   "source": [
    "z = np.random.randint(-5, high=15, size=25)\n",
    "print(z)"
   ]
  },
  {
   "cell_type": "code",
   "execution_count": 6,
   "metadata": {},
   "outputs": [
    {
     "data": {
      "image/png": "[encoded data removed]",
      "text/plain": [
       "<Figure size 432x288 with 1 Axes>"
      ]
     },
     "metadata": {
      "needs_background": "light"
     },
     "output_type": "display_data"
    }
   ],
   "source": [
    "num = np.exp(z)\n",
    "den = np.sum(num)\n",
    "sigma = num / den\n",
    "\n",
    "plt.plot(z, sigma, 'ko')\n",
    "plt.xlabel('Original number (z)')\n",
    "plt.ylabel('Softmaxified $\\sigma$')\n",
    "plt.yscale('log')\n",
    "plt.title('$\\sum\\sigma$ = %g' %np.sum(sigma))\n",
    "plt.show()"
   ]
  },
  {
   "cell_type": "code",
   "execution_count": 8,
   "metadata": {},
   "outputs": [
    {
     "name": "stdout",
     "output_type": "stream",
     "text": [
      "tensor([0.0900, 0.2447, 0.6652])\n"
     ]
    }
   ],
   "source": [
    "softfun = nn.Softmax(dim=0)\n",
    "sigmaT = softfun(torch.Tensor([1, 2, 3]))\n",
    "print(sigmaT)"
   ]
  },
  {
   "attachments": {},
   "cell_type": "markdown",
   "metadata": {},
   "source": [
    "# Logarithms"
   ]
  },
  {
   "cell_type": "code",
   "execution_count": 9,
   "metadata": {},
   "outputs": [],
   "source": [
    "import numpy as np\n",
    "import matplotlib.pyplot as plt"
   ]
  },
  {
   "cell_type": "code",
   "execution_count": 11,
   "metadata": {},
   "outputs": [
    {
     "data": {
      "image/png": "[encoded data removed]",
      "text/plain": [
       "<Figure size 720x288 with 1 Axes>"
      ]
     },
     "metadata": {
      "needs_background": "light"
     },
     "output_type": "display_data"
    }
   ],
   "source": [
    "x = np.linspace(.0001, 1, 200)\n",
    "\n",
    "logx = np.log(x)\n",
    "\n",
    "fig = plt.figure(figsize=(10, 4))\n",
    "plt.rcParams.update({'font.size': 15})\n",
    "plt.plot(x, logx, 'ks-', markerfacecolor='w')\n",
    "plt.xlabel('x')\n",
    "plt.ylabel('log(x)')\n",
    "plt.show()"
   ]
  },
  {
   "attachments": {},
   "cell_type": "markdown",
   "metadata": {},
   "source": [
    "# Argmin, Argmax"
   ]
  },
  {
   "cell_type": "code",
   "execution_count": 17,
   "metadata": {},
   "outputs": [
    {
     "name": "stdout",
     "output_type": "stream",
     "text": [
      "[[ 2  1 10]\n",
      " [20  0  5]]\n"
     ]
    }
   ],
   "source": [
    "M = np.array([[2, 1, 10],\n",
    "              [20, 0, 5]])\n",
    "\n",
    "print(M)"
   ]
  },
  {
   "cell_type": "code",
   "execution_count": 14,
   "metadata": {},
   "outputs": [
    {
     "name": "stdout",
     "output_type": "stream",
     "text": [
      "0 [0 1 5] [0 5]\n"
     ]
    }
   ],
   "source": [
    "minvals1 = np.min(M)\n",
    "minvals2 = np.min(M, axis=0) # row끼리 비교\n",
    "minvals3 = np.min(M, axis=1) # col끼리 비교\n",
    "print(minvals1, minvals2, minvals3)"
   ]
  },
  {
   "cell_type": "code",
   "execution_count": 18,
   "metadata": {},
   "outputs": [
    {
     "name": "stdout",
     "output_type": "stream",
     "text": [
      "[[ 2  1 10]\n",
      " [20  0  5]]\n",
      "\n",
      "4\n",
      "\n",
      "[0 1 1]\n",
      "\n",
      "[1 1]\n"
     ]
    }
   ],
   "source": [
    "minidx1 = np.argmin(M)\n",
    "minidx2 = np.argmin(M, axis=0)\n",
    "minidx3 = np.argmin(M, axis=1)\n",
    "\n",
    "print(M, minidx1, minidx2, minidx3, sep='\\n\\n')"
   ]
  },
  {
   "cell_type": "code",
   "execution_count": 20,
   "metadata": {},
   "outputs": [
    {
     "name": "stdout",
     "output_type": "stream",
     "text": [
      "torch.return_types.min(\n",
      "values=tensor([2., 0., 5.]),\n",
      "indices=tensor([0, 1, 1]))\n"
     ]
    }
   ],
   "source": [
    "torchM = torch.Tensor(M)\n",
    "torch1 = torch.min(torchM)\n",
    "torch2 = torch.min(torchM, axis=0)\n",
    "torch3 = torch.min(torchM, axis=1)\n",
    "\n",
    "print(torch2)"
   ]
  },
  {
   "cell_type": "code",
   "execution_count": 21,
   "metadata": {},
   "outputs": [
    {
     "data": {
      "text/plain": [
       "(tensor([2., 0., 5.]),\n",
       " tensor([0, 1, 1]),\n",
       " tensor([[ 2.,  1., 10.],\n",
       "         [20.,  0.,  5.]]))"
      ]
     },
     "execution_count": 21,
     "metadata": {},
     "output_type": "execute_result"
    }
   ],
   "source": [
    "torch2.values, torch2.indices, torchM"
   ]
  },
  {
   "cell_type": "code",
   "execution_count": 10,
   "metadata": {},
   "outputs": [
    {
     "name": "stdout",
     "output_type": "stream",
     "text": [
      "1\n",
      "\n",
      "[[1 2]\n",
      " [3 4]]\n",
      "\n",
      "[[1 4]\n",
      " [3 2]\n",
      " [2 5]]\n",
      "\n",
      "[[1 4]\n",
      " [2 3]\n",
      " [2 8]]\n",
      "\n"
     ]
    }
   ],
   "source": [
    "import numpy as np\n",
    "\n",
    "a = np.array(\n",
    "    [\n",
    "        [[1, 6],\n",
    "         [7, 4]],\n",
    "        [[5, 2],\n",
    "         [3, 8]],\n",
    "        [[2, 5],\n",
    "         [9, 8]]\n",
    "    ]   \n",
    ")\n",
    "\n",
    "print(np.min(a), end='\\n\\n') # [[1], [5]]\n",
    "print(np.min(a, axis=0), end='\\n\\n') # [[1 2], [3 4]]\n",
    "print(np.min(a, axis=1), end='\\n\\n') # [[1 4], [3 2], [2 5]]\n",
    "print(np.min(a, axis=2), end='\\n\\n') # [[1, 4], [2, 3], [2, 8]]"
   ]
  },
  {
   "cell_type": "code",
   "execution_count": 5,
   "metadata": {},
   "outputs": [
    {
     "name": "stdout",
     "output_type": "stream",
     "text": [
      "0 [0 1 5] [0 5]\n"
     ]
    }
   ],
   "source": [
    "M = np.array([[0, 1, 10],\n",
    "              [20, 8, 5]])\n",
    "minvals1 = np.min(M) # 0\n",
    "minvals2 = np.min(M, axis=0) # Row0, 1끼리 비교해라 # [0, 1, 5]\n",
    "minvals3 = np.min(M, axis=1) # Column0, 1, 2끼리 비교해라 # [0, 5]\n",
    "\n",
    "print(minvals1, minvals2, minvals3)"
   ]
  }
 ],
 "metadata": {
  "kernelspec": {
   "display_name": "workspace",
   "language": "python",
   "name": "python3"
  },
  "language_info": {
   "codemirror_mode": {
    "name": "ipython",
    "version": 3
   },
   "file_extension": ".py",
   "mimetype": "text/x-python",
   "name": "python",
   "nbconvert_exporter": "python",
   "pygments_lexer": "ipython3",
   "version": "3.8.11"
  },
  "orig_nbformat": 4
 },
 "nbformat": 4,
 "nbformat_minor": 2
}
